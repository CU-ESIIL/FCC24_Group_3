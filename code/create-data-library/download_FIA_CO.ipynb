{
 "cells": [
  {
   "cell_type": "code",
   "execution_count": 1,
   "id": "0d4a3230-9ae3-4755-97cf-8bb652bab1dc",
   "metadata": {},
   "outputs": [
    {
     "name": "stderr",
     "output_type": "stream",
     "text": [
      "Loading required package: readr\n",
      "\n"
     ]
    }
   ],
   "source": [
    "# This script contains functions to download both individual\n",
    "# FIA data csv files as well as bulk download data types. The two key functions\n",
    "# described are fia_download_individual_data_files and fia_bulk_download_data_files\n",
    "\n",
    "# ESIIL, February 2024\n",
    "# Tyler L. McIntosh\n",
    "\n",
    "options(timeout = 300)\n",
    "require(readr)\n",
    "\n",
    "################################\n",
    "# DOWNLOAD INDIVIDUAL FIA DATASETS\n",
    "#\n",
    "# This function will download individual FIA datasets requested and return the filenames\n",
    "# It will create a new subdirectory for the files, \"fia_individual_data_files\".\n",
    "# If you want to bulk download data by type, use function fia_bulk_download_data_files\n",
    "# Note that you may want to change your environment's download timeout option to allow longer downloads\n",
    "# (e.g. options(timeout = 300))\n",
    "#\n",
    "#### PARAMETERS ####\n",
    "# state_abbreviations : a vector of state abbreviations as strings (e.g. c(\"CO\", \"WY\", \"NM\"))\n",
    "# file_suffixes : a vector of data file oracle table names (e.g. c(\"DWM_VISIT\", \"COUNTY\")\n",
    "#         from https://www.fs.usda.gov/research/understory/forest-inventory-and-analysis-database-user-guide-phase-2\n",
    "# directory : the directory in which to store the data (a new subdirectory will be created for the new files)\n",
    "#\n",
    "#### Example call to the function and read of the data ####\n",
    "# downloaded_files <- fia_download_individual_data_files(\n",
    "#   state_abbreviations = c(\"CO\"),\n",
    "#   file_suffixes = c(\"DWM_VISIT\", \"COUNTY\"),\n",
    "#   directory = \"~/data\")\n",
    "# data_list <- downloaded_files |> lapply(readr::read_csv)\n",
    "# names(data_list) <- basename(downloaded_files)\n",
    "#\n",
    "fia_download_individual_data_files <- function(state_abbreviations, file_suffixes, directory) {\n",
    "  \n",
    "  #Ensure directory exists\n",
    "  if (!dir.exists(directory)) {\n",
    "    dir.create(directory)\n",
    "  }\n",
    "  \n",
    "  base_url <- \"https://apps.fs.usda.gov/fia/datamart/CSV/\"\n",
    "  \n",
    "  # Define the subdirectory path\n",
    "  subdirectory_path <- file.path(directory, \"fia_individual_data_files\")\n",
    "  \n",
    "  # Create the subdirectory if it does not exist\n",
    "  if (!dir.exists(subdirectory_path)) {\n",
    "    dir.create(subdirectory_path, recursive = TRUE)\n",
    "  }\n",
    "  \n",
    "  downloaded_files <- c()  # Initialize an empty vector to store downloaded filenames\n",
    "  \n",
    "  for (state in state_abbreviations) {\n",
    "    for (suffix in file_suffixes) {\n",
    "      # Replace underscores with spaces to match the naming convention in the URL\n",
    "      url_suffix <- gsub(\"_\", \" \", suffix)\n",
    "      url_suffix <- gsub(\" \", \"_\", toupper(url_suffix)) # URL seems to be uppercase\n",
    "      \n",
    "      # Construct the URL and filename using the subdirectory path\n",
    "      url <- paste0(base_url, state, \"_\", url_suffix, \".csv\")\n",
    "      filename <- paste0(subdirectory_path, \"/\", state, \"_\", suffix, \".csv\")\n",
    "      \n",
    "      # Attempt to download the file\n",
    "      tryCatch({\n",
    "        download.file(url, destfile = filename, mode = \"wb\")\n",
    "        downloaded_files <- c(downloaded_files, filename)  # Add the filename to the vector\n",
    "        message(\"Downloaded \", filename)\n",
    "      }, error = function(e) {\n",
    "        message(\"Failed to download \", url, \": \", e$message)\n",
    "      })\n",
    "    }\n",
    "  }\n",
    "  \n",
    "  return(downloaded_files)  # Return the vector of downloaded filenames\n",
    "}"
   ]
  },
  {
   "cell_type": "code",
   "execution_count": 2,
   "id": "c7a86cc7-f267-410e-862b-dde1a811e42a",
   "metadata": {},
   "outputs": [
    {
     "name": "stderr",
     "output_type": "stream",
     "text": [
      "Downloaded /home/jovyan/data-store/data/iplant/home/shared/earthlab/forest_carbon_codefest/Team_outputs/Team3/FIA/fia_individual_data_files/CO_TREE.csv\n",
      "\n",
      "Downloaded /home/jovyan/data-store/data/iplant/home/shared/earthlab/forest_carbon_codefest/Team_outputs/Team3/FIA/fia_individual_data_files/CO_PLOT.csv\n",
      "\n",
      "Downloaded /home/jovyan/data-store/data/iplant/home/shared/earthlab/forest_carbon_codefest/Team_outputs/Team3/FIA/fia_individual_data_files/CO_COND.csv\n",
      "\n"
     ]
    },
    {
     "data": {
      "text/html": [
       "<style>\n",
       ".list-inline {list-style: none; margin:0; padding: 0}\n",
       ".list-inline>li {display: inline-block}\n",
       ".list-inline>li:not(:last-child)::after {content: \"\\00b7\"; padding: 0 .5ex}\n",
       "</style>\n",
       "<ol class=list-inline><li>'/home/jovyan/data-store/data/iplant/home/shared/earthlab/forest_carbon_codefest/Team_outputs/Team3/FIA/fia_individual_data_files/CO_TREE.csv'</li><li>'/home/jovyan/data-store/data/iplant/home/shared/earthlab/forest_carbon_codefest/Team_outputs/Team3/FIA/fia_individual_data_files/CO_PLOT.csv'</li><li>'/home/jovyan/data-store/data/iplant/home/shared/earthlab/forest_carbon_codefest/Team_outputs/Team3/FIA/fia_individual_data_files/CO_COND.csv'</li></ol>\n"
      ],
      "text/latex": [
       "\\begin{enumerate*}\n",
       "\\item '/home/jovyan/data-store/data/iplant/home/shared/earthlab/forest\\_carbon\\_codefest/Team\\_outputs/Team3/FIA/fia\\_individual\\_data\\_files/CO\\_TREE.csv'\n",
       "\\item '/home/jovyan/data-store/data/iplant/home/shared/earthlab/forest\\_carbon\\_codefest/Team\\_outputs/Team3/FIA/fia\\_individual\\_data\\_files/CO\\_PLOT.csv'\n",
       "\\item '/home/jovyan/data-store/data/iplant/home/shared/earthlab/forest\\_carbon\\_codefest/Team\\_outputs/Team3/FIA/fia\\_individual\\_data\\_files/CO\\_COND.csv'\n",
       "\\end{enumerate*}\n"
      ],
      "text/markdown": [
       "1. '/home/jovyan/data-store/data/iplant/home/shared/earthlab/forest_carbon_codefest/Team_outputs/Team3/FIA/fia_individual_data_files/CO_TREE.csv'\n",
       "2. '/home/jovyan/data-store/data/iplant/home/shared/earthlab/forest_carbon_codefest/Team_outputs/Team3/FIA/fia_individual_data_files/CO_PLOT.csv'\n",
       "3. '/home/jovyan/data-store/data/iplant/home/shared/earthlab/forest_carbon_codefest/Team_outputs/Team3/FIA/fia_individual_data_files/CO_COND.csv'\n",
       "\n",
       "\n"
      ],
      "text/plain": [
       "[1] \"/home/jovyan/data-store/data/iplant/home/shared/earthlab/forest_carbon_codefest/Team_outputs/Team3/FIA/fia_individual_data_files/CO_TREE.csv\"\n",
       "[2] \"/home/jovyan/data-store/data/iplant/home/shared/earthlab/forest_carbon_codefest/Team_outputs/Team3/FIA/fia_individual_data_files/CO_PLOT.csv\"\n",
       "[3] \"/home/jovyan/data-store/data/iplant/home/shared/earthlab/forest_carbon_codefest/Team_outputs/Team3/FIA/fia_individual_data_files/CO_COND.csv\""
      ]
     },
     "metadata": {},
     "output_type": "display_data"
    }
   ],
   "source": [
    "fia_download_individual_data_files(c(\"CO\"),c(\"TREE\",\"PLOT\",\"COND\"),\"/home/jovyan/data-store/data/iplant/home/shared/earthlab/forest_carbon_codefest/Team_outputs/Team3/FIA\")"
   ]
  },
  {
   "cell_type": "code",
   "execution_count": null,
   "id": "0978d08d-3db8-49f9-8179-8236aeca0782",
   "metadata": {},
   "outputs": [],
   "source": []
  }
 ],
 "metadata": {
  "kernelspec": {
   "display_name": "R",
   "language": "R",
   "name": "ir"
  },
  "language_info": {
   "codemirror_mode": "r",
   "file_extension": ".r",
   "mimetype": "text/x-r-source",
   "name": "R",
   "pygments_lexer": "r",
   "version": "4.2.3"
  }
 },
 "nbformat": 4,
 "nbformat_minor": 5
}

{
 "cells": [
  {
   "cell_type": "code",
   "execution_count": 2,
   "id": "6f1f90da-f2a2-409c-9952-f252041780a3",
   "metadata": {},
   "outputs": [],
   "source": [
    "## LandFire Exploratory Anlaysis"
   ]
  },
  {
   "cell_type": "code",
   "execution_count": 58,
   "id": "e6f05b3e-2655-4719-862b-b294d619cd80",
   "metadata": {},
   "outputs": [],
   "source": [
    "import geopandas as gpd\n",
    "import numpy as np"
   ]
  },
  {
   "cell_type": "code",
   "execution_count": 3,
   "id": "43cc2e7e-f2a4-4eef-a411-e6475706609d",
   "metadata": {},
   "outputs": [],
   "source": [
    "df = gpd.read_file(\"/home/jovyan/data-store/FCC24_Group_3/data/LF_Public_Events_1999_2022.gdb\", \n",
    "                  layer= \"CONUS_230_PublicModelReadyEvents\")"
   ]
  },
  {
   "cell_type": "code",
   "execution_count": 5,
   "id": "a7b10bb8-a04c-48fd-903d-ab41c81832c0",
   "metadata": {},
   "outputs": [
    {
     "data": {
      "text/html": [
       "<div>\n",
       "<style scoped>\n",
       "    .dataframe tbody tr th:only-of-type {\n",
       "        vertical-align: middle;\n",
       "    }\n",
       "\n",
       "    .dataframe tbody tr th {\n",
       "        vertical-align: top;\n",
       "    }\n",
       "\n",
       "    .dataframe thead th {\n",
       "        text-align: right;\n",
       "    }\n",
       "</style>\n",
       "<table border=\"1\" class=\"dataframe\">\n",
       "  <thead>\n",
       "    <tr style=\"text-align: right;\">\n",
       "      <th></th>\n",
       "      <th>Event_ID</th>\n",
       "      <th>LF_ID</th>\n",
       "      <th>DB_ID</th>\n",
       "      <th>DB_Source</th>\n",
       "      <th>Event_Type</th>\n",
       "      <th>Event_Subtype</th>\n",
       "      <th>Year</th>\n",
       "      <th>Start_Date</th>\n",
       "      <th>End_Date</th>\n",
       "      <th>Severity</th>\n",
       "      <th>Agency</th>\n",
       "      <th>Source_Code</th>\n",
       "      <th>FiscalYear</th>\n",
       "      <th>SHAPE_Length</th>\n",
       "      <th>SHAPE_Area</th>\n",
       "      <th>geometry</th>\n",
       "    </tr>\n",
       "  </thead>\n",
       "  <tbody>\n",
       "    <tr>\n",
       "      <th>0</th>\n",
       "      <td>NW1000280180</td>\n",
       "      <td>2604</td>\n",
       "      <td>0206052040100002000</td>\n",
       "      <td>FACTS_SUID</td>\n",
       "      <td>Thinning</td>\n",
       "      <td>Precommercial Thin</td>\n",
       "      <td>2011.0</td>\n",
       "      <td>NaT</td>\n",
       "      <td>2011-10-28 00:00:00+00:00</td>\n",
       "      <td>Low</td>\n",
       "      <td>USFS</td>\n",
       "      <td>FS206FACTS03</td>\n",
       "      <td>NaN</td>\n",
       "      <td>2475.460425</td>\n",
       "      <td>141583.604848</td>\n",
       "      <td>MULTIPOLYGON (((-844248.389 2068444.654, -8442...</td>\n",
       "    </tr>\n",
       "    <tr>\n",
       "      <th>1</th>\n",
       "      <td>NW1000280181</td>\n",
       "      <td>2605</td>\n",
       "      <td>0206052040100021000</td>\n",
       "      <td>FACTS_SUID</td>\n",
       "      <td>Thinning</td>\n",
       "      <td>Precommercial Thin</td>\n",
       "      <td>2011.0</td>\n",
       "      <td>NaT</td>\n",
       "      <td>2011-10-28 00:00:00+00:00</td>\n",
       "      <td>Low</td>\n",
       "      <td>USFS</td>\n",
       "      <td>FS206FACTS03</td>\n",
       "      <td>NaN</td>\n",
       "      <td>767.148086</td>\n",
       "      <td>25391.624135</td>\n",
       "      <td>MULTIPOLYGON (((-844738.979 2069094.769, -8447...</td>\n",
       "    </tr>\n",
       "    <tr>\n",
       "      <th>2</th>\n",
       "      <td>NW1000280182</td>\n",
       "      <td>2674</td>\n",
       "      <td>020605STRAIN0039000</td>\n",
       "      <td>FACTS_SUID</td>\n",
       "      <td>Other Mechanical</td>\n",
       "      <td>Site Preparation for Natural Regeneration - Me...</td>\n",
       "      <td>2011.0</td>\n",
       "      <td>NaT</td>\n",
       "      <td>2011-09-09 00:00:00+00:00</td>\n",
       "      <td>High</td>\n",
       "      <td>USFS</td>\n",
       "      <td>FS206FACTS03</td>\n",
       "      <td>NaN</td>\n",
       "      <td>916.198592</td>\n",
       "      <td>48564.044514</td>\n",
       "      <td>MULTIPOLYGON (((-838337.186 2063347.060, -8383...</td>\n",
       "    </tr>\n",
       "    <tr>\n",
       "      <th>3</th>\n",
       "      <td>NW1000280184</td>\n",
       "      <td>2677</td>\n",
       "      <td>020609ESTRCGFF01000</td>\n",
       "      <td>FACTS_SUID</td>\n",
       "      <td>Prescribed Fire</td>\n",
       "      <td>Burning of Piled Material</td>\n",
       "      <td>2011.0</td>\n",
       "      <td>NaT</td>\n",
       "      <td>2011-01-17 00:00:00+00:00</td>\n",
       "      <td>Moderate</td>\n",
       "      <td>USFS</td>\n",
       "      <td>FS206FACTS03</td>\n",
       "      <td>NaN</td>\n",
       "      <td>1491.221957</td>\n",
       "      <td>49107.707014</td>\n",
       "      <td>MULTIPOLYGON (((-761187.254 2195781.760, -7611...</td>\n",
       "    </tr>\n",
       "    <tr>\n",
       "      <th>4</th>\n",
       "      <td>NW1000280223</td>\n",
       "      <td>2716</td>\n",
       "      <td>020609UPSGFRFF01000</td>\n",
       "      <td>FACTS_SUID</td>\n",
       "      <td>Other Mechanical</td>\n",
       "      <td>Thinning for Hazardous Fuels Reduction</td>\n",
       "      <td>2011.0</td>\n",
       "      <td>NaT</td>\n",
       "      <td>2011-06-12 00:00:00+00:00</td>\n",
       "      <td>Moderate</td>\n",
       "      <td>USFS</td>\n",
       "      <td>FS206FACTS03</td>\n",
       "      <td>NaN</td>\n",
       "      <td>3850.820337</td>\n",
       "      <td>177382.239931</td>\n",
       "      <td>MULTIPOLYGON (((-778715.790 2175172.874, -7787...</td>\n",
       "    </tr>\n",
       "  </tbody>\n",
       "</table>\n",
       "</div>"
      ],
      "text/plain": [
       "       Event_ID  LF_ID                DB_ID   DB_Source        Event_Type  \\\n",
       "0  NW1000280180   2604  0206052040100002000  FACTS_SUID          Thinning   \n",
       "1  NW1000280181   2605  0206052040100021000  FACTS_SUID          Thinning   \n",
       "2  NW1000280182   2674  020605STRAIN0039000  FACTS_SUID  Other Mechanical   \n",
       "3  NW1000280184   2677  020609ESTRCGFF01000  FACTS_SUID   Prescribed Fire   \n",
       "4  NW1000280223   2716  020609UPSGFRFF01000  FACTS_SUID  Other Mechanical   \n",
       "\n",
       "                                       Event_Subtype    Year Start_Date  \\\n",
       "0                                 Precommercial Thin  2011.0        NaT   \n",
       "1                                 Precommercial Thin  2011.0        NaT   \n",
       "2  Site Preparation for Natural Regeneration - Me...  2011.0        NaT   \n",
       "3                          Burning of Piled Material  2011.0        NaT   \n",
       "4             Thinning for Hazardous Fuels Reduction  2011.0        NaT   \n",
       "\n",
       "                   End_Date  Severity Agency   Source_Code  FiscalYear  \\\n",
       "0 2011-10-28 00:00:00+00:00       Low   USFS  FS206FACTS03         NaN   \n",
       "1 2011-10-28 00:00:00+00:00       Low   USFS  FS206FACTS03         NaN   \n",
       "2 2011-09-09 00:00:00+00:00      High   USFS  FS206FACTS03         NaN   \n",
       "3 2011-01-17 00:00:00+00:00  Moderate   USFS  FS206FACTS03         NaN   \n",
       "4 2011-06-12 00:00:00+00:00  Moderate   USFS  FS206FACTS03         NaN   \n",
       "\n",
       "   SHAPE_Length     SHAPE_Area  \\\n",
       "0   2475.460425  141583.604848   \n",
       "1    767.148086   25391.624135   \n",
       "2    916.198592   48564.044514   \n",
       "3   1491.221957   49107.707014   \n",
       "4   3850.820337  177382.239931   \n",
       "\n",
       "                                            geometry  \n",
       "0  MULTIPOLYGON (((-844248.389 2068444.654, -8442...  \n",
       "1  MULTIPOLYGON (((-844738.979 2069094.769, -8447...  \n",
       "2  MULTIPOLYGON (((-838337.186 2063347.060, -8383...  \n",
       "3  MULTIPOLYGON (((-761187.254 2195781.760, -7611...  \n",
       "4  MULTIPOLYGON (((-778715.790 2175172.874, -7787...  "
      ]
     },
     "execution_count": 5,
     "metadata": {},
     "output_type": "execute_result"
    }
   ],
   "source": [
    "df.head()"
   ]
  },
  {
   "cell_type": "code",
   "execution_count": 6,
   "id": "06aba22d-6b3f-48c0-8228-704fd1508662",
   "metadata": {},
   "outputs": [],
   "source": [
    "treatment_lst = [\"Thinning\", \"Other Mechanical\", \"Perscribed Fire\", \"Mastication\", \"Clearcut\"]"
   ]
  },
  {
   "cell_type": "code",
   "execution_count": 8,
   "id": "27f30ef7-c90a-467d-a5c9-75eb5eb03426",
   "metadata": {},
   "outputs": [],
   "source": [
    "df_treatment_filter = df[df[\"Event_Type\"].isin(treatment_lst)]"
   ]
  },
  {
   "cell_type": "code",
   "execution_count": 9,
   "id": "759b54ac-c31c-4d31-b9cd-5b4e507bd4ef",
   "metadata": {},
   "outputs": [
    {
     "data": {
      "text/html": [
       "<div>\n",
       "<style scoped>\n",
       "    .dataframe tbody tr th:only-of-type {\n",
       "        vertical-align: middle;\n",
       "    }\n",
       "\n",
       "    .dataframe tbody tr th {\n",
       "        vertical-align: top;\n",
       "    }\n",
       "\n",
       "    .dataframe thead th {\n",
       "        text-align: right;\n",
       "    }\n",
       "</style>\n",
       "<table border=\"1\" class=\"dataframe\">\n",
       "  <thead>\n",
       "    <tr style=\"text-align: right;\">\n",
       "      <th></th>\n",
       "      <th>Event_ID</th>\n",
       "      <th>LF_ID</th>\n",
       "      <th>DB_ID</th>\n",
       "      <th>DB_Source</th>\n",
       "      <th>Event_Type</th>\n",
       "      <th>Event_Subtype</th>\n",
       "      <th>Year</th>\n",
       "      <th>Start_Date</th>\n",
       "      <th>End_Date</th>\n",
       "      <th>Severity</th>\n",
       "      <th>Agency</th>\n",
       "      <th>Source_Code</th>\n",
       "      <th>FiscalYear</th>\n",
       "      <th>SHAPE_Length</th>\n",
       "      <th>SHAPE_Area</th>\n",
       "      <th>geometry</th>\n",
       "    </tr>\n",
       "  </thead>\n",
       "  <tbody>\n",
       "    <tr>\n",
       "      <th>0</th>\n",
       "      <td>NW1000280180</td>\n",
       "      <td>2604</td>\n",
       "      <td>0206052040100002000</td>\n",
       "      <td>FACTS_SUID</td>\n",
       "      <td>Thinning</td>\n",
       "      <td>Precommercial Thin</td>\n",
       "      <td>2011.0</td>\n",
       "      <td>NaT</td>\n",
       "      <td>2011-10-28 00:00:00+00:00</td>\n",
       "      <td>Low</td>\n",
       "      <td>USFS</td>\n",
       "      <td>FS206FACTS03</td>\n",
       "      <td>NaN</td>\n",
       "      <td>2475.460425</td>\n",
       "      <td>141583.604848</td>\n",
       "      <td>MULTIPOLYGON (((-844248.389 2068444.654, -8442...</td>\n",
       "    </tr>\n",
       "    <tr>\n",
       "      <th>1</th>\n",
       "      <td>NW1000280181</td>\n",
       "      <td>2605</td>\n",
       "      <td>0206052040100021000</td>\n",
       "      <td>FACTS_SUID</td>\n",
       "      <td>Thinning</td>\n",
       "      <td>Precommercial Thin</td>\n",
       "      <td>2011.0</td>\n",
       "      <td>NaT</td>\n",
       "      <td>2011-10-28 00:00:00+00:00</td>\n",
       "      <td>Low</td>\n",
       "      <td>USFS</td>\n",
       "      <td>FS206FACTS03</td>\n",
       "      <td>NaN</td>\n",
       "      <td>767.148086</td>\n",
       "      <td>25391.624135</td>\n",
       "      <td>MULTIPOLYGON (((-844738.979 2069094.769, -8447...</td>\n",
       "    </tr>\n",
       "    <tr>\n",
       "      <th>2</th>\n",
       "      <td>NW1000280182</td>\n",
       "      <td>2674</td>\n",
       "      <td>020605STRAIN0039000</td>\n",
       "      <td>FACTS_SUID</td>\n",
       "      <td>Other Mechanical</td>\n",
       "      <td>Site Preparation for Natural Regeneration - Me...</td>\n",
       "      <td>2011.0</td>\n",
       "      <td>NaT</td>\n",
       "      <td>2011-09-09 00:00:00+00:00</td>\n",
       "      <td>High</td>\n",
       "      <td>USFS</td>\n",
       "      <td>FS206FACTS03</td>\n",
       "      <td>NaN</td>\n",
       "      <td>916.198592</td>\n",
       "      <td>48564.044514</td>\n",
       "      <td>MULTIPOLYGON (((-838337.186 2063347.060, -8383...</td>\n",
       "    </tr>\n",
       "    <tr>\n",
       "      <th>4</th>\n",
       "      <td>NW1000280223</td>\n",
       "      <td>2716</td>\n",
       "      <td>020609UPSGFRFF01000</td>\n",
       "      <td>FACTS_SUID</td>\n",
       "      <td>Other Mechanical</td>\n",
       "      <td>Thinning for Hazardous Fuels Reduction</td>\n",
       "      <td>2011.0</td>\n",
       "      <td>NaT</td>\n",
       "      <td>2011-06-12 00:00:00+00:00</td>\n",
       "      <td>Moderate</td>\n",
       "      <td>USFS</td>\n",
       "      <td>FS206FACTS03</td>\n",
       "      <td>NaN</td>\n",
       "      <td>3850.820337</td>\n",
       "      <td>177382.239931</td>\n",
       "      <td>MULTIPOLYGON (((-778715.790 2175172.874, -7787...</td>\n",
       "    </tr>\n",
       "    <tr>\n",
       "      <th>57</th>\n",
       "      <td>SW1000189869</td>\n",
       "      <td>2569</td>\n",
       "      <td>020604GOULD00002000</td>\n",
       "      <td>FACTS_SUID</td>\n",
       "      <td>Clearcut</td>\n",
       "      <td>Stand Clearcut (EA/RH/FH)</td>\n",
       "      <td>2011.0</td>\n",
       "      <td>NaT</td>\n",
       "      <td>2011-06-01 00:00:00+00:00</td>\n",
       "      <td>High</td>\n",
       "      <td>USFS</td>\n",
       "      <td>FS206FACTS03</td>\n",
       "      <td>NaN</td>\n",
       "      <td>890.083256</td>\n",
       "      <td>27506.730040</td>\n",
       "      <td>MULTIPOLYGON (((-841250.168 1989241.172, -8412...</td>\n",
       "    </tr>\n",
       "    <tr>\n",
       "      <th>...</th>\n",
       "      <td>...</td>\n",
       "      <td>...</td>\n",
       "      <td>...</td>\n",
       "      <td>...</td>\n",
       "      <td>...</td>\n",
       "      <td>...</td>\n",
       "      <td>...</td>\n",
       "      <td>...</td>\n",
       "      <td>...</td>\n",
       "      <td>...</td>\n",
       "      <td>...</td>\n",
       "      <td>...</td>\n",
       "      <td>...</td>\n",
       "      <td>...</td>\n",
       "      <td>...</td>\n",
       "      <td>...</td>\n",
       "    </tr>\n",
       "    <tr>\n",
       "      <th>1128662</th>\n",
       "      <td>SE1000234789</td>\n",
       "      <td>9093</td>\n",
       "      <td>6320272</td>\n",
       "      <td>ACT_TRT_ID</td>\n",
       "      <td>Mastication</td>\n",
       "      <td>Mechanical - Mastication</td>\n",
       "      <td>2022.0</td>\n",
       "      <td>2022-02-16 00:00:00+00:00</td>\n",
       "      <td>2022-02-17 00:00:00+00:00</td>\n",
       "      <td>None</td>\n",
       "      <td>NPS</td>\n",
       "      <td>MNFPORSTRT07</td>\n",
       "      <td>2022.0</td>\n",
       "      <td>2592.933746</td>\n",
       "      <td>9437.662703</td>\n",
       "      <td>MULTIPOLYGON (((158429.633 835840.806, 158431....</td>\n",
       "    </tr>\n",
       "    <tr>\n",
       "      <th>1128663</th>\n",
       "      <td>SE1000234791</td>\n",
       "      <td>9095</td>\n",
       "      <td>6320272</td>\n",
       "      <td>ACT_TRT_ID</td>\n",
       "      <td>Mastication</td>\n",
       "      <td>Mechanical - Mastication</td>\n",
       "      <td>2022.0</td>\n",
       "      <td>2022-02-16 00:00:00+00:00</td>\n",
       "      <td>2022-02-17 00:00:00+00:00</td>\n",
       "      <td>None</td>\n",
       "      <td>NPS</td>\n",
       "      <td>MNFPORSTRT07</td>\n",
       "      <td>2022.0</td>\n",
       "      <td>1461.250760</td>\n",
       "      <td>5294.837170</td>\n",
       "      <td>MULTIPOLYGON (((158918.699 836548.880, 158919....</td>\n",
       "    </tr>\n",
       "    <tr>\n",
       "      <th>1128664</th>\n",
       "      <td>SE1000234792</td>\n",
       "      <td>9096</td>\n",
       "      <td>6320272</td>\n",
       "      <td>ACT_TRT_ID</td>\n",
       "      <td>Mastication</td>\n",
       "      <td>Mechanical - Mastication</td>\n",
       "      <td>2022.0</td>\n",
       "      <td>2022-02-16 00:00:00+00:00</td>\n",
       "      <td>2022-02-17 00:00:00+00:00</td>\n",
       "      <td>None</td>\n",
       "      <td>NPS</td>\n",
       "      <td>MNFPORSTRT07</td>\n",
       "      <td>2022.0</td>\n",
       "      <td>1403.517586</td>\n",
       "      <td>5059.963749</td>\n",
       "      <td>MULTIPOLYGON (((158631.874 835907.636, 158625....</td>\n",
       "    </tr>\n",
       "    <tr>\n",
       "      <th>1128665</th>\n",
       "      <td>SE1000234793</td>\n",
       "      <td>9097</td>\n",
       "      <td>6320272</td>\n",
       "      <td>ACT_TRT_ID</td>\n",
       "      <td>Mastication</td>\n",
       "      <td>Mechanical - Mastication</td>\n",
       "      <td>2022.0</td>\n",
       "      <td>2022-02-16 00:00:00+00:00</td>\n",
       "      <td>2022-02-17 00:00:00+00:00</td>\n",
       "      <td>None</td>\n",
       "      <td>NPS</td>\n",
       "      <td>MNFPORSTRT07</td>\n",
       "      <td>2022.0</td>\n",
       "      <td>685.291976</td>\n",
       "      <td>2412.921842</td>\n",
       "      <td>MULTIPOLYGON (((158870.903 836728.245, 158870....</td>\n",
       "    </tr>\n",
       "    <tr>\n",
       "      <th>1128666</th>\n",
       "      <td>SE1000234816</td>\n",
       "      <td>9162</td>\n",
       "      <td>6329979</td>\n",
       "      <td>ACT_TRT_ID</td>\n",
       "      <td>Other Mechanical</td>\n",
       "      <td>Mechanical - Lop and Scatter</td>\n",
       "      <td>2022.0</td>\n",
       "      <td>2022-07-20 00:00:00+00:00</td>\n",
       "      <td>2022-08-09 00:00:00+00:00</td>\n",
       "      <td>None</td>\n",
       "      <td>NPS</td>\n",
       "      <td>MNFPORSTRT07</td>\n",
       "      <td>2022.0</td>\n",
       "      <td>172.293529</td>\n",
       "      <td>2087.968736</td>\n",
       "      <td>MULTIPOLYGON (((159206.691 835396.666, 159189....</td>\n",
       "    </tr>\n",
       "  </tbody>\n",
       "</table>\n",
       "<p>432038 rows × 16 columns</p>\n",
       "</div>"
      ],
      "text/plain": [
       "             Event_ID  LF_ID                DB_ID   DB_Source  \\\n",
       "0        NW1000280180   2604  0206052040100002000  FACTS_SUID   \n",
       "1        NW1000280181   2605  0206052040100021000  FACTS_SUID   \n",
       "2        NW1000280182   2674  020605STRAIN0039000  FACTS_SUID   \n",
       "4        NW1000280223   2716  020609UPSGFRFF01000  FACTS_SUID   \n",
       "57       SW1000189869   2569  020604GOULD00002000  FACTS_SUID   \n",
       "...               ...    ...                  ...         ...   \n",
       "1128662  SE1000234789   9093              6320272  ACT_TRT_ID   \n",
       "1128663  SE1000234791   9095              6320272  ACT_TRT_ID   \n",
       "1128664  SE1000234792   9096              6320272  ACT_TRT_ID   \n",
       "1128665  SE1000234793   9097              6320272  ACT_TRT_ID   \n",
       "1128666  SE1000234816   9162              6329979  ACT_TRT_ID   \n",
       "\n",
       "               Event_Type                                      Event_Subtype  \\\n",
       "0                Thinning                                 Precommercial Thin   \n",
       "1                Thinning                                 Precommercial Thin   \n",
       "2        Other Mechanical  Site Preparation for Natural Regeneration - Me...   \n",
       "4        Other Mechanical             Thinning for Hazardous Fuels Reduction   \n",
       "57               Clearcut                          Stand Clearcut (EA/RH/FH)   \n",
       "...                   ...                                                ...   \n",
       "1128662       Mastication                           Mechanical - Mastication   \n",
       "1128663       Mastication                           Mechanical - Mastication   \n",
       "1128664       Mastication                           Mechanical - Mastication   \n",
       "1128665       Mastication                           Mechanical - Mastication   \n",
       "1128666  Other Mechanical                       Mechanical - Lop and Scatter   \n",
       "\n",
       "           Year                Start_Date                  End_Date  Severity  \\\n",
       "0        2011.0                       NaT 2011-10-28 00:00:00+00:00       Low   \n",
       "1        2011.0                       NaT 2011-10-28 00:00:00+00:00       Low   \n",
       "2        2011.0                       NaT 2011-09-09 00:00:00+00:00      High   \n",
       "4        2011.0                       NaT 2011-06-12 00:00:00+00:00  Moderate   \n",
       "57       2011.0                       NaT 2011-06-01 00:00:00+00:00      High   \n",
       "...         ...                       ...                       ...       ...   \n",
       "1128662  2022.0 2022-02-16 00:00:00+00:00 2022-02-17 00:00:00+00:00      None   \n",
       "1128663  2022.0 2022-02-16 00:00:00+00:00 2022-02-17 00:00:00+00:00      None   \n",
       "1128664  2022.0 2022-02-16 00:00:00+00:00 2022-02-17 00:00:00+00:00      None   \n",
       "1128665  2022.0 2022-02-16 00:00:00+00:00 2022-02-17 00:00:00+00:00      None   \n",
       "1128666  2022.0 2022-07-20 00:00:00+00:00 2022-08-09 00:00:00+00:00      None   \n",
       "\n",
       "        Agency   Source_Code  FiscalYear  SHAPE_Length     SHAPE_Area  \\\n",
       "0         USFS  FS206FACTS03         NaN   2475.460425  141583.604848   \n",
       "1         USFS  FS206FACTS03         NaN    767.148086   25391.624135   \n",
       "2         USFS  FS206FACTS03         NaN    916.198592   48564.044514   \n",
       "4         USFS  FS206FACTS03         NaN   3850.820337  177382.239931   \n",
       "57        USFS  FS206FACTS03         NaN    890.083256   27506.730040   \n",
       "...        ...           ...         ...           ...            ...   \n",
       "1128662    NPS  MNFPORSTRT07      2022.0   2592.933746    9437.662703   \n",
       "1128663    NPS  MNFPORSTRT07      2022.0   1461.250760    5294.837170   \n",
       "1128664    NPS  MNFPORSTRT07      2022.0   1403.517586    5059.963749   \n",
       "1128665    NPS  MNFPORSTRT07      2022.0    685.291976    2412.921842   \n",
       "1128666    NPS  MNFPORSTRT07      2022.0    172.293529    2087.968736   \n",
       "\n",
       "                                                  geometry  \n",
       "0        MULTIPOLYGON (((-844248.389 2068444.654, -8442...  \n",
       "1        MULTIPOLYGON (((-844738.979 2069094.769, -8447...  \n",
       "2        MULTIPOLYGON (((-838337.186 2063347.060, -8383...  \n",
       "4        MULTIPOLYGON (((-778715.790 2175172.874, -7787...  \n",
       "57       MULTIPOLYGON (((-841250.168 1989241.172, -8412...  \n",
       "...                                                    ...  \n",
       "1128662  MULTIPOLYGON (((158429.633 835840.806, 158431....  \n",
       "1128663  MULTIPOLYGON (((158918.699 836548.880, 158919....  \n",
       "1128664  MULTIPOLYGON (((158631.874 835907.636, 158625....  \n",
       "1128665  MULTIPOLYGON (((158870.903 836728.245, 158870....  \n",
       "1128666  MULTIPOLYGON (((159206.691 835396.666, 159189....  \n",
       "\n",
       "[432038 rows x 16 columns]"
      ]
     },
     "execution_count": 9,
     "metadata": {},
     "output_type": "execute_result"
    }
   ],
   "source": [
    "df_treatment_filter.to_file(\"/home/jovyan/data-store/FCC24_Group_3/data/LF_events_filtered.geojson\", driver='GeoJSON'"
   ]
  },
  {
   "cell_type": "code",
   "execution_count": 24,
   "id": "66b8eb6d-3d6a-4530-bffc-1681b6fc8276",
   "metadata": {},
   "outputs": [],
   "source": [
    "fire_filter_lst = [\"Wildfire\", \"Wildland fire\"]\n",
    "\n",
    "df_fire_filter = df[df[\"Event_Type\"].isin(fire_filter_lst)]"
   ]
  },
  {
   "cell_type": "code",
   "execution_count": 28,
   "id": "0965cfbc-3931-46c8-b735-14bd7f419456",
   "metadata": {},
   "outputs": [],
   "source": [
    "df_fire_filter.to_file(\"/home/jovyan/data-store/data/iplant/home/shared/earthlab/forest_carbon_codefest/Team_outputs/Team3/LF_fire_filtered.geojson\", driver='GeoJSON')"
   ]
  },
  {
   "cell_type": "code",
   "execution_count": 30,
   "id": "be740f98-6125-46b2-b6f7-f82184ba1124",
   "metadata": {},
   "outputs": [],
   "source": [
    "df_treatment_filter.to_file(\"/home/jovyan/data-store/data/iplant/home/shared/earthlab/forest_carbon_codefest/Team_outputs/Team3/LF_treatment_filtered.geojson\", driver='GeoJSON')"
   ]
  },
  {
   "cell_type": "markdown",
   "id": "b497cb7f-6e2f-4e79-be42-ab257d3b537d",
   "metadata": {},
   "source": [
    "## Clip to Study Area + Do Exploratory Analysis"
   ]
  },
  {
   "cell_type": "code",
   "execution_count": 33,
   "id": "9c2db739-478e-47c3-bf6f-fa93f88c0a49",
   "metadata": {
    "editable": true,
    "slideshow": {
     "slide_type": ""
    },
    "tags": []
   },
   "outputs": [],
   "source": [
    "co_bounds = gpd.read_file(\"/home/jovyan/data-store/FCC24_Group_3/data/Colorado_State_Boundary.geojson\")"
   ]
  },
  {
   "cell_type": "code",
   "execution_count": 34,
   "id": "b4d8eb71-1956-4098-bb32-9d976170843a",
   "metadata": {},
   "outputs": [
    {
     "data": {
      "text/html": [
       "<div>\n",
       "<style scoped>\n",
       "    .dataframe tbody tr th:only-of-type {\n",
       "        vertical-align: middle;\n",
       "    }\n",
       "\n",
       "    .dataframe tbody tr th {\n",
       "        vertical-align: top;\n",
       "    }\n",
       "\n",
       "    .dataframe thead th {\n",
       "        text-align: right;\n",
       "    }\n",
       "</style>\n",
       "<table border=\"1\" class=\"dataframe\">\n",
       "  <thead>\n",
       "    <tr style=\"text-align: right;\">\n",
       "      <th></th>\n",
       "      <th>OBJECTID</th>\n",
       "      <th>NAME</th>\n",
       "      <th>geometry</th>\n",
       "    </tr>\n",
       "  </thead>\n",
       "  <tbody>\n",
       "    <tr>\n",
       "      <th>0</th>\n",
       "      <td>1</td>\n",
       "      <td>Colorado</td>\n",
       "      <td>POLYGON ((-107.31780 41.00293, -107.31951 41.0...</td>\n",
       "    </tr>\n",
       "  </tbody>\n",
       "</table>\n",
       "</div>"
      ],
      "text/plain": [
       "   OBJECTID      NAME                                           geometry\n",
       "0         1  Colorado  POLYGON ((-107.31780 41.00293, -107.31951 41.0..."
      ]
     },
     "execution_count": 34,
     "metadata": {},
     "output_type": "execute_result"
    }
   ],
   "source": [
    "co_bounds"
   ]
  },
  {
   "cell_type": "code",
   "execution_count": 36,
   "id": "8552c23e-b338-47ae-a357-f36826b0ecd8",
   "metadata": {},
   "outputs": [
    {
     "data": {
      "text/plain": [
       "<Axes: >"
      ]
     },
     "execution_count": 36,
     "metadata": {},
     "output_type": "execute_result"
    },
    {
     "data": {
      "image/png": "[encoded data removed]",
      "text/plain": [
       "<Figure size 640x480 with 1 Axes>"
      ]
     },
     "metadata": {},
     "output_type": "display_data"
    }
   ],
   "source": [
    "co_bounds.plot()"
   ]
  },
  {
   "cell_type": "code",
   "execution_count": 37,
   "id": "695dda73-f861-4a45-a2bd-e9e0608569af",
   "metadata": {},
   "outputs": [
    {
     "data": {
      "text/plain": [
       "<Projected CRS: EPSG:5070>\n",
       "Name: NAD83 / Conus Albers\n",
       "Axis Info [cartesian]:\n",
       "- X[east]: Easting (metre)\n",
       "- Y[north]: Northing (metre)\n",
       "Area of Use:\n",
       "- name: United States (USA) - CONUS onshore - Alabama; Arizona; Arkansas; California; Colorado; Connecticut; Delaware; Florida; Georgia; Idaho; Illinois; Indiana; Iowa; Kansas; Kentucky; Louisiana; Maine; Maryland; Massachusetts; Michigan; Minnesota; Mississippi; Missouri; Montana; Nebraska; Nevada; New Hampshire; New Jersey; New Mexico; New York; North Carolina; North Dakota; Ohio; Oklahoma; Oregon; Pennsylvania; Rhode Island; South Carolina; South Dakota; Tennessee; Texas; Utah; Vermont; Virginia; Washington; West Virginia; Wisconsin; Wyoming.\n",
       "- bounds: (-124.79, 24.41, -66.91, 49.38)\n",
       "Coordinate Operation:\n",
       "- name: Conus Albers\n",
       "- method: Albers Equal Area\n",
       "Datum: North American Datum 1983\n",
       "- Ellipsoid: GRS 1980\n",
       "- Prime Meridian: Greenwich"
      ]
     },
     "execution_count": 37,
     "metadata": {},
     "output_type": "execute_result"
    }
   ],
   "source": [
    "df_fire_filter.crs"
   ]
  },
  {
   "cell_type": "code",
   "execution_count": 38,
   "id": "38c35bc7-e569-4c5e-b3f5-88cab80478b6",
   "metadata": {},
   "outputs": [],
   "source": [
    "df_fire_filters_reproject = df_fire_filter.to_crs(\"EPSG:4326\")"
   ]
  },
  {
   "cell_type": "code",
   "execution_count": 40,
   "id": "674b0f03-b9e8-40ac-9f6f-fb62ef6d9943",
   "metadata": {},
   "outputs": [
    {
     "data": {
      "text/plain": [
       "<Geographic 2D CRS: EPSG:4326>\n",
       "Name: WGS 84\n",
       "Axis Info [ellipsoidal]:\n",
       "- Lat[north]: Geodetic latitude (degree)\n",
       "- Lon[east]: Geodetic longitude (degree)\n",
       "Area of Use:\n",
       "- name: World.\n",
       "- bounds: (-180.0, -90.0, 180.0, 90.0)\n",
       "Datum: World Geodetic System 1984 ensemble\n",
       "- Ellipsoid: WGS 84\n",
       "- Prime Meridian: Greenwich"
      ]
     },
     "execution_count": 40,
     "metadata": {},
     "output_type": "execute_result"
    }
   ],
   "source": [
    "df_fire_filters_reproject.crs"
   ]
  },
  {
   "cell_type": "code",
   "execution_count": 41,
   "id": "5b1ca3a5-c900-43e2-9f89-07c42c2c16ed",
   "metadata": {},
   "outputs": [],
   "source": [
    "df_fire_filters_reproject_clip = df_fire_filters_reproject.clip(co_bounds)"
   ]
  },
  {
   "cell_type": "code",
   "execution_count": 43,
   "id": "c24f8283-4ec0-4487-a045-44338e823798",
   "metadata": {},
   "outputs": [
    {
     "data": {
      "text/plain": [
       "(2654, 16)"
      ]
     },
     "execution_count": 43,
     "metadata": {},
     "output_type": "execute_result"
    }
   ],
   "source": [
    "df_fire_filters_reproject_clip.shape"
   ]
  },
  {
   "cell_type": "code",
   "execution_count": 52,
   "id": "a40bf66c-70b6-4e4d-ad77-ddf6ff929c0c",
   "metadata": {},
   "outputs": [
    {
     "data": {
      "text/plain": [
       "<Axes: >"
      ]
     },
     "execution_count": 52,
     "metadata": {},
     "output_type": "execute_result"
    },
    {
     "data": {
      "image/png": "[encoded data removed]",
      "text/plain": [
       "<Figure size 640x480 with 1 Axes>"
      ]
     },
     "metadata": {},
     "output_type": "display_data"
    }
   ],
   "source": [
    "df_fire_filters_reproject_clip['SHAPE_Area'].hist(bins=20)"
   ]
  },
  {
   "cell_type": "code",
   "execution_count": 54,
   "id": "da99fc39-51e8-4f2d-a2e5-8e386fb4253f",
   "metadata": {},
   "outputs": [
    {
     "data": {
      "text/plain": [
       "3121869.6231783745"
      ]
     },
     "execution_count": 54,
     "metadata": {},
     "output_type": "execute_result"
    }
   ],
   "source": [
    "df_fire_filters_reproject_clip['SHAPE_Area'].mean()"
   ]
  },
  {
   "cell_type": "code",
   "execution_count": 55,
   "id": "006ecaa4-2e84-4b22-944b-bdcab5352bb0",
   "metadata": {},
   "outputs": [
    {
     "data": {
      "text/plain": [
       "4807.796941483317"
      ]
     },
     "execution_count": 55,
     "metadata": {},
     "output_type": "execute_result"
    }
   ],
   "source": [
    "df_fire_filters_reproject_clip['SHAPE_Area'].median()"
   ]
  },
  {
   "cell_type": "code",
   "execution_count": 56,
   "id": "51f372b0-4721-4724-a350-d66d296bc08d",
   "metadata": {},
   "outputs": [
    {
     "data": {
      "text/plain": [
       "81.38830745796076"
      ]
     },
     "execution_count": 56,
     "metadata": {},
     "output_type": "execute_result"
    }
   ],
   "source": [
    "df_fire_filters_reproject_clip['SHAPE_Area'].min()"
   ]
  },
  {
   "cell_type": "code",
   "execution_count": 59,
   "id": "a0942552-3313-47c0-974f-7348c28ccf22",
   "metadata": {},
   "outputs": [
    {
     "data": {
      "text/plain": [
       "899.7521635064074"
      ]
     },
     "execution_count": 59,
     "metadata": {},
     "output_type": "execute_result"
    }
   ],
   "source": [
    "np.percentile(df_fire_filters_reproject_clip['SHAPE_Area'], 25)"
   ]
  },
  {
   "cell_type": "code",
   "execution_count": 60,
   "id": "c6c79ba5-238f-42ea-a46f-1f4e14160db6",
   "metadata": {},
   "outputs": [
    {
     "data": {
      "text/plain": [
       "count    2.654000e+03\n",
       "mean     3.121870e+06\n",
       "std      3.206213e+07\n",
       "min      8.138831e+01\n",
       "25%      8.997522e+02\n",
       "50%      4.807797e+03\n",
       "75%      9.130354e+04\n",
       "max      8.348646e+08\n",
       "Name: SHAPE_Area, dtype: float64"
      ]
     },
     "execution_count": 60,
     "metadata": {},
     "output_type": "execute_result"
    }
   ],
   "source": [
    "df_fire_filters_reproject_clip['SHAPE_Area'].describe()"
   ]
  },
  {
   "cell_type": "code",
   "execution_count": 61,
   "id": "3cd36c51-b8d3-42aa-b5a9-fe01174d452f",
   "metadata": {},
   "outputs": [],
   "source": [
    "df_fire_filters_reproject_clip['area_acres'] = df_fire_filters_reproject_clip['SHAPE_Area']/4047"
   ]
  },
  {
   "cell_type": "code",
   "execution_count": 62,
   "id": "ff2302c2-d451-44c3-a4d3-d14ca71d2669",
   "metadata": {},
   "outputs": [
    {
     "data": {
      "text/plain": [
       "count      2654.000000\n",
       "mean        771.403416\n",
       "std        7922.444046\n",
       "min           0.020111\n",
       "25%           0.222326\n",
       "50%           1.187990\n",
       "75%          22.560795\n",
       "max      206292.222525\n",
       "Name: area_acres, dtype: float64"
      ]
     },
     "execution_count": 62,
     "metadata": {},
     "output_type": "execute_result"
    }
   ],
   "source": [
    "df_fire_filters_reproject_clip['area_acres'].describe()"
   ]
  },
  {
   "cell_type": "code",
   "execution_count": 65,
   "id": "0c5da756-6732-438b-959a-d5c73edd48d2",
   "metadata": {},
   "outputs": [],
   "source": [
    "df_fire_size_filter = df_fire_filters_reproject_clip[df_fire_filters_reproject_clip['area_acres'] > 50]"
   ]
  },
  {
   "cell_type": "code",
   "execution_count": 66,
   "id": "edeb2a58-c19b-4747-8807-fad126bb76cb",
   "metadata": {},
   "outputs": [
    {
     "data": {
      "text/plain": [
       "(517, 17)"
      ]
     },
     "execution_count": 66,
     "metadata": {},
     "output_type": "execute_result"
    }
   ],
   "source": [
    "df_fire_size_filter.shape"
   ]
  },
  {
   "cell_type": "code",
   "execution_count": 67,
   "id": "7cc33700-678d-4eff-8a3c-1cc816130143",
   "metadata": {},
   "outputs": [
    {
     "data": {
      "text/plain": [
       "count       517.000000\n",
       "mean       3939.981787\n",
       "std       17612.830762\n",
       "min          50.000259\n",
       "25%         106.433211\n",
       "50%         326.652643\n",
       "75%        1136.152353\n",
       "max      206292.222525\n",
       "Name: area_acres, dtype: float64"
      ]
     },
     "execution_count": 67,
     "metadata": {},
     "output_type": "execute_result"
    }
   ],
   "source": [
    "df_fire_size_filter['area_acres'].describe()"
   ]
  },
  {
   "cell_type": "code",
   "execution_count": 69,
   "id": "5cb40f53-9fc8-4239-8133-0e45f99d0c6b",
   "metadata": {
    "editable": true,
    "slideshow": {
     "slide_type": ""
    },
    "tags": []
   },
   "outputs": [],
   "source": [
    "df_fire_size_filter.to_file('/home/jovyan/data-store/data/iplant/home/shared/earthlab/forest_carbon_codefest/Team_outputs/Team3/LF_fire_CO_50ac_above.geojson', driver='GeoJSON')"
   ]
  },
  {
   "cell_type": "code",
   "execution_count": null,
   "id": "dacbf4e3-d784-4aae-bd73-ea405f1e8a70",
   "metadata": {},
   "outputs": [],
   "source": [
    "# Filter Fuel Treatments by size and clip to CO boundary"
   ]
  },
  {
   "cell_type": "code",
   "execution_count": 78,
   "id": "a7aae8ee-77ec-49d3-aac7-1eb23698828c",
   "metadata": {},
   "outputs": [
    {
     "data": {
      "text/html": [
       "<div>\n",
       "<style scoped>\n",
       "    .dataframe tbody tr th:only-of-type {\n",
       "        vertical-align: middle;\n",
       "    }\n",
       "\n",
       "    .dataframe tbody tr th {\n",
       "        vertical-align: top;\n",
       "    }\n",
       "\n",
       "    .dataframe thead th {\n",
       "        text-align: right;\n",
       "    }\n",
       "</style>\n",
       "<table border=\"1\" class=\"dataframe\">\n",
       "  <thead>\n",
       "    <tr style=\"text-align: right;\">\n",
       "      <th></th>\n",
       "      <th>index</th>\n",
       "      <th>Event_ID</th>\n",
       "      <th>LF_ID</th>\n",
       "      <th>DB_ID</th>\n",
       "      <th>DB_Source</th>\n",
       "      <th>Event_Type</th>\n",
       "      <th>Event_Subtype</th>\n",
       "      <th>Year</th>\n",
       "      <th>Start_Date</th>\n",
       "      <th>End_Date</th>\n",
       "      <th>Severity</th>\n",
       "      <th>Agency</th>\n",
       "      <th>Source_Code</th>\n",
       "      <th>FiscalYear</th>\n",
       "      <th>SHAPE_Length</th>\n",
       "      <th>SHAPE_Area</th>\n",
       "      <th>geometry</th>\n",
       "    </tr>\n",
       "  </thead>\n",
       "  <tbody>\n",
       "    <tr>\n",
       "      <th>0</th>\n",
       "      <td>0</td>\n",
       "      <td>NW1000280180</td>\n",
       "      <td>2604</td>\n",
       "      <td>0206052040100002000</td>\n",
       "      <td>FACTS_SUID</td>\n",
       "      <td>Thinning</td>\n",
       "      <td>Precommercial Thin</td>\n",
       "      <td>2011.0</td>\n",
       "      <td>NaT</td>\n",
       "      <td>2011-10-28 00:00:00+00:00</td>\n",
       "      <td>Low</td>\n",
       "      <td>USFS</td>\n",
       "      <td>FS206FACTS03</td>\n",
       "      <td>NaN</td>\n",
       "      <td>2475.460425</td>\n",
       "      <td>141583.604848</td>\n",
       "      <td>MULTIPOLYGON (((-844248.389 2068444.654, -8442...</td>\n",
       "    </tr>\n",
       "    <tr>\n",
       "      <th>1</th>\n",
       "      <td>1</td>\n",
       "      <td>NW1000280181</td>\n",
       "      <td>2605</td>\n",
       "      <td>0206052040100021000</td>\n",
       "      <td>FACTS_SUID</td>\n",
       "      <td>Thinning</td>\n",
       "      <td>Precommercial Thin</td>\n",
       "      <td>2011.0</td>\n",
       "      <td>NaT</td>\n",
       "      <td>2011-10-28 00:00:00+00:00</td>\n",
       "      <td>Low</td>\n",
       "      <td>USFS</td>\n",
       "      <td>FS206FACTS03</td>\n",
       "      <td>NaN</td>\n",
       "      <td>767.148086</td>\n",
       "      <td>25391.624135</td>\n",
       "      <td>MULTIPOLYGON (((-844738.979 2069094.769, -8447...</td>\n",
       "    </tr>\n",
       "    <tr>\n",
       "      <th>2</th>\n",
       "      <td>2</td>\n",
       "      <td>NW1000280182</td>\n",
       "      <td>2674</td>\n",
       "      <td>020605STRAIN0039000</td>\n",
       "      <td>FACTS_SUID</td>\n",
       "      <td>Other Mechanical</td>\n",
       "      <td>Site Preparation for Natural Regeneration - Me...</td>\n",
       "      <td>2011.0</td>\n",
       "      <td>NaT</td>\n",
       "      <td>2011-09-09 00:00:00+00:00</td>\n",
       "      <td>High</td>\n",
       "      <td>USFS</td>\n",
       "      <td>FS206FACTS03</td>\n",
       "      <td>NaN</td>\n",
       "      <td>916.198592</td>\n",
       "      <td>48564.044514</td>\n",
       "      <td>MULTIPOLYGON (((-838337.186 2063347.060, -8383...</td>\n",
       "    </tr>\n",
       "    <tr>\n",
       "      <th>3</th>\n",
       "      <td>4</td>\n",
       "      <td>NW1000280223</td>\n",
       "      <td>2716</td>\n",
       "      <td>020609UPSGFRFF01000</td>\n",
       "      <td>FACTS_SUID</td>\n",
       "      <td>Other Mechanical</td>\n",
       "      <td>Thinning for Hazardous Fuels Reduction</td>\n",
       "      <td>2011.0</td>\n",
       "      <td>NaT</td>\n",
       "      <td>2011-06-12 00:00:00+00:00</td>\n",
       "      <td>Moderate</td>\n",
       "      <td>USFS</td>\n",
       "      <td>FS206FACTS03</td>\n",
       "      <td>NaN</td>\n",
       "      <td>3850.820337</td>\n",
       "      <td>177382.239931</td>\n",
       "      <td>MULTIPOLYGON (((-778715.790 2175172.874, -7787...</td>\n",
       "    </tr>\n",
       "    <tr>\n",
       "      <th>4</th>\n",
       "      <td>57</td>\n",
       "      <td>SW1000189869</td>\n",
       "      <td>2569</td>\n",
       "      <td>020604GOULD00002000</td>\n",
       "      <td>FACTS_SUID</td>\n",
       "      <td>Clearcut</td>\n",
       "      <td>Stand Clearcut (EA/RH/FH)</td>\n",
       "      <td>2011.0</td>\n",
       "      <td>NaT</td>\n",
       "      <td>2011-06-01 00:00:00+00:00</td>\n",
       "      <td>High</td>\n",
       "      <td>USFS</td>\n",
       "      <td>FS206FACTS03</td>\n",
       "      <td>NaN</td>\n",
       "      <td>890.083256</td>\n",
       "      <td>27506.730040</td>\n",
       "      <td>MULTIPOLYGON (((-841250.168 1989241.172, -8412...</td>\n",
       "    </tr>\n",
       "  </tbody>\n",
       "</table>\n",
       "</div>"
      ],
      "text/plain": [
       "   index      Event_ID  LF_ID                DB_ID   DB_Source  \\\n",
       "0      0  NW1000280180   2604  0206052040100002000  FACTS_SUID   \n",
       "1      1  NW1000280181   2605  0206052040100021000  FACTS_SUID   \n",
       "2      2  NW1000280182   2674  020605STRAIN0039000  FACTS_SUID   \n",
       "3      4  NW1000280223   2716  020609UPSGFRFF01000  FACTS_SUID   \n",
       "4     57  SW1000189869   2569  020604GOULD00002000  FACTS_SUID   \n",
       "\n",
       "         Event_Type                                      Event_Subtype  \\\n",
       "0          Thinning                                 Precommercial Thin   \n",
       "1          Thinning                                 Precommercial Thin   \n",
       "2  Other Mechanical  Site Preparation for Natural Regeneration - Me...   \n",
       "3  Other Mechanical             Thinning for Hazardous Fuels Reduction   \n",
       "4          Clearcut                          Stand Clearcut (EA/RH/FH)   \n",
       "\n",
       "     Year Start_Date                  End_Date  Severity Agency   Source_Code  \\\n",
       "0  2011.0        NaT 2011-10-28 00:00:00+00:00       Low   USFS  FS206FACTS03   \n",
       "1  2011.0        NaT 2011-10-28 00:00:00+00:00       Low   USFS  FS206FACTS03   \n",
       "2  2011.0        NaT 2011-09-09 00:00:00+00:00      High   USFS  FS206FACTS03   \n",
       "3  2011.0        NaT 2011-06-12 00:00:00+00:00  Moderate   USFS  FS206FACTS03   \n",
       "4  2011.0        NaT 2011-06-01 00:00:00+00:00      High   USFS  FS206FACTS03   \n",
       "\n",
       "   FiscalYear  SHAPE_Length     SHAPE_Area  \\\n",
       "0         NaN   2475.460425  141583.604848   \n",
       "1         NaN    767.148086   25391.624135   \n",
       "2         NaN    916.198592   48564.044514   \n",
       "3         NaN   3850.820337  177382.239931   \n",
       "4         NaN    890.083256   27506.730040   \n",
       "\n",
       "                                            geometry  \n",
       "0  MULTIPOLYGON (((-844248.389 2068444.654, -8442...  \n",
       "1  MULTIPOLYGON (((-844738.979 2069094.769, -8447...  \n",
       "2  MULTIPOLYGON (((-838337.186 2063347.060, -8383...  \n",
       "3  MULTIPOLYGON (((-778715.790 2175172.874, -7787...  \n",
       "4  MULTIPOLYGON (((-841250.168 1989241.172, -8412...  "
      ]
     },
     "execution_count": 78,
     "metadata": {},
     "output_type": "execute_result"
    }
   ],
   "source": [
    "df_treatment_filter.head()"
   ]
  },
  {
   "cell_type": "code",
   "execution_count": 79,
   "id": "e50c6f70-72f6-47f9-91dc-4a354bef5e11",
   "metadata": {},
   "outputs": [],
   "source": [
    "def clip_and_filter(df: gpd.GeoDataFrame, boundary: gpd.GeoDataFrame, ac_area_min: int) -> gpd.GeoDataFrame:\n",
    "\n",
    "    df = df.to_crs(\"EPSG:4326\")\n",
    "    df_clipped = df.clip(boundary) \n",
    "\n",
    "    # add area_acres_column \n",
    "    df_clipped['area_acres'] =  df_clipped['SHAPE_Area']/ 4047\n",
    "    \n",
    "    \n",
    "    df_clipped_filtered = df_clipped[df_clipped['area_acres'] > ac_area_min]\n",
    "\n",
    "    return df_clipped_filtered"
   ]
  },
  {
   "cell_type": "code",
   "execution_count": 80,
   "id": "17e806e2-d084-4bbd-b54e-bb45b52fccc1",
   "metadata": {},
   "outputs": [],
   "source": [
    "df_fuel_treatment_clipped = clip_and_filter(df = df_treatment_filter, boundary = co_bounds, ac_area_min = 40)"
   ]
  },
  {
   "cell_type": "code",
   "execution_count": 81,
   "id": "6cb739ee-c668-404d-8baf-87c52175449c",
   "metadata": {},
   "outputs": [
    {
     "data": {
      "text/plain": [
       "(2703, 18)"
      ]
     },
     "execution_count": 81,
     "metadata": {},
     "output_type": "execute_result"
    }
   ],
   "source": [
    "df_fuel_treatment_clipped.shape"
   ]
  },
  {
   "cell_type": "code",
   "execution_count": 83,
   "id": "9b3a7903-9656-48c1-b04a-f7f94f95398a",
   "metadata": {},
   "outputs": [
    {
     "data": {
      "text/plain": [
       "count     2703.000000\n",
       "mean       300.124966\n",
       "std       1352.791766\n",
       "min         40.001087\n",
       "25%         57.074157\n",
       "50%         89.703973\n",
       "75%        161.850541\n",
       "max      40017.862060\n",
       "Name: area_acres, dtype: float64"
      ]
     },
     "execution_count": 83,
     "metadata": {},
     "output_type": "execute_result"
    }
   ],
   "source": [
    "df_fuel_treatment_clipped['area_acres'].describe()"
   ]
  },
  {
   "cell_type": "code",
   "execution_count": 86,
   "id": "919380ad-2fc2-4be2-b6c6-451373eaf948",
   "metadata": {},
   "outputs": [
    {
     "data": {
      "text/plain": [
       "<Axes: >"
      ]
     },
     "execution_count": 86,
     "metadata": {},
     "output_type": "execute_result"
    },
    {
     "data": {
      "image/png": "[encoded data removed]",
      "text/plain": [
       "<Figure size 640x480 with 1 Axes>"
      ]
     },
     "metadata": {},
     "output_type": "display_data"
    }
   ],
   "source": [
    "df_fuel_treatment_clipped[df_fuel_treatment_clipped['area_acres'] > 40000].plot()"
   ]
  },
  {
   "cell_type": "code",
   "execution_count": 87,
   "id": "b972562f-2da4-4caa-8577-a24adeaa702a",
   "metadata": {
    "editable": true,
    "slideshow": {
     "slide_type": ""
    },
    "tags": []
   },
   "outputs": [],
   "source": [
    "df_fuel_treatment_clipped[df_fuel_treatment_clipped['area_acres'] > 40000].to_file(\"/home/jovyan/data-store/FCC24_Group_3/data/large_fuel_treatment_instance.geojson\", driver='GeoJSON')"
   ]
  },
  {
   "cell_type": "code",
   "execution_count": 88,
   "id": "b8d5764d-0f6e-4edb-b409-929f56b84c94",
   "metadata": {},
   "outputs": [
    {
     "data": {
      "text/html": [
       "<div>\n",
       "<style scoped>\n",
       "    .dataframe tbody tr th:only-of-type {\n",
       "        vertical-align: middle;\n",
       "    }\n",
       "\n",
       "    .dataframe tbody tr th {\n",
       "        vertical-align: top;\n",
       "    }\n",
       "\n",
       "    .dataframe thead th {\n",
       "        text-align: right;\n",
       "    }\n",
       "</style>\n",
       "<table border=\"1\" class=\"dataframe\">\n",
       "  <thead>\n",
       "    <tr style=\"text-align: right;\">\n",
       "      <th></th>\n",
       "      <th>index</th>\n",
       "      <th>Event_ID</th>\n",
       "      <th>LF_ID</th>\n",
       "      <th>DB_ID</th>\n",
       "      <th>DB_Source</th>\n",
       "      <th>Event_Type</th>\n",
       "      <th>Event_Subtype</th>\n",
       "      <th>Year</th>\n",
       "      <th>Start_Date</th>\n",
       "      <th>End_Date</th>\n",
       "      <th>Severity</th>\n",
       "      <th>Agency</th>\n",
       "      <th>Source_Code</th>\n",
       "      <th>FiscalYear</th>\n",
       "      <th>SHAPE_Length</th>\n",
       "      <th>SHAPE_Area</th>\n",
       "      <th>geometry</th>\n",
       "      <th>area_acres</th>\n",
       "    </tr>\n",
       "  </thead>\n",
       "  <tbody>\n",
       "    <tr>\n",
       "      <th>257310</th>\n",
       "      <td>614075</td>\n",
       "      <td>SW1000489011</td>\n",
       "      <td>2562</td>\n",
       "      <td>None</td>\n",
       "      <td>None</td>\n",
       "      <td>Thinning</td>\n",
       "      <td>Thinning</td>\n",
       "      <td>2017.0</td>\n",
       "      <td>NaT</td>\n",
       "      <td>NaT</td>\n",
       "      <td>None</td>\n",
       "      <td>State</td>\n",
       "      <td>MNMFWRI00001</td>\n",
       "      <td>NaN</td>\n",
       "      <td>144430.873193</td>\n",
       "      <td>1.619523e+08</td>\n",
       "      <td>POLYGON ((-106.29362 37.19199, -106.29333 37.1...</td>\n",
       "      <td>40017.86206</td>\n",
       "    </tr>\n",
       "  </tbody>\n",
       "</table>\n",
       "</div>"
      ],
      "text/plain": [
       "         index      Event_ID  LF_ID DB_ID DB_Source Event_Type Event_Subtype  \\\n",
       "257310  614075  SW1000489011   2562  None      None   Thinning      Thinning   \n",
       "\n",
       "          Year Start_Date End_Date Severity Agency   Source_Code  FiscalYear  \\\n",
       "257310  2017.0        NaT      NaT     None  State  MNMFWRI00001         NaN   \n",
       "\n",
       "         SHAPE_Length    SHAPE_Area  \\\n",
       "257310  144430.873193  1.619523e+08   \n",
       "\n",
       "                                                 geometry   area_acres  \n",
       "257310  POLYGON ((-106.29362 37.19199, -106.29333 37.1...  40017.86206  "
      ]
     },
     "execution_count": 88,
     "metadata": {},
     "output_type": "execute_result"
    }
   ],
   "source": [
    "df_fuel_treatment_clipped[df_fuel_treatment_clipped['area_acres'] > 40000]"
   ]
  },
  {
   "cell_type": "code",
   "execution_count": 89,
   "id": "f9aa7126-67bc-459d-a6e9-9310d8508f00",
   "metadata": {},
   "outputs": [],
   "source": [
    "df_fuel_treatment_clipped_max = df_fuel_treatment_clipped[df_fuel_treatment_clipped['area_acres'] < 10000]"
   ]
  },
  {
   "cell_type": "code",
   "execution_count": 90,
   "id": "b80942e0-3618-42e8-b805-d406e3365c29",
   "metadata": {},
   "outputs": [
    {
     "data": {
      "text/plain": [
       "(2694, 18)"
      ]
     },
     "execution_count": 90,
     "metadata": {},
     "output_type": "execute_result"
    }
   ],
   "source": [
    "df_fuel_treatment_clipped_max.shape"
   ]
  },
  {
   "cell_type": "code",
   "execution_count": 93,
   "id": "8996c23e-5796-49cb-b52d-ff348f55f9ef",
   "metadata": {},
   "outputs": [
    {
     "data": {
      "text/plain": [
       "count    2694.000000\n",
       "mean      237.408557\n",
       "std       646.175687\n",
       "min        40.001087\n",
       "25%        57.019081\n",
       "50%        89.540737\n",
       "75%       160.925589\n",
       "max      9265.284637\n",
       "Name: area_acres, dtype: float64"
      ]
     },
     "execution_count": 93,
     "metadata": {},
     "output_type": "execute_result"
    }
   ],
   "source": [
    "df_fuel_treatment_clipped_max['area_acres'].describe()"
   ]
  },
  {
   "cell_type": "code",
   "execution_count": 96,
   "id": "5e176c7b-5e6c-4346-9c7e-5959e8d2fac2",
   "metadata": {
    "editable": true,
    "slideshow": {
     "slide_type": ""
    },
    "tags": []
   },
   "outputs": [],
   "source": [
    "df_fuel_treatment_clipped[df_fuel_treatment_clipped['area_acres']  > 10000].to_file(\"/home/jovyan/data-store/FCC24_Group_3/data/1000ac_fuel_treatment_instance.geojson\")"
   ]
  },
  {
   "cell_type": "code",
   "execution_count": 98,
   "id": "d91073fc-33ce-4bd2-8979-ee3d85d5f078",
   "metadata": {},
   "outputs": [],
   "source": [
    "df_fuel_treatment_clipped.to_file(\"/home/jovyan/data-store/data/iplant/home/shared/earthlab/forest_carbon_codefest/Team_outputs/Team3/LF_treatment_CO_40ac_above.geojson\", driver='GeoJSON')"
   ]
  },
  {
   "cell_type": "code",
   "execution_count": null,
   "id": "e217d4b0-16e1-4eda-8a39-303aa11ee32a",
   "metadata": {},
   "outputs": [],
   "source": []
  }
 ],
 "metadata": {
  "kernelspec": {
   "display_name": "macrosystems",
   "language": "python",
   "name": "macrosystems"
  },
  "language_info": {
   "codemirror_mode": {
    "name": "ipython",
    "version": 3
   },
   "file_extension": ".py",
   "mimetype": "text/x-python",
   "name": "python",
   "nbconvert_exporter": "python",
   "pygments_lexer": "ipython3",
   "version": "3.10.13"
  }
 },
 "nbformat": 4,
 "nbformat_minor": 5
}
